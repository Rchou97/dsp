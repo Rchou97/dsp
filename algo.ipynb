{
 "cells": [
  {
   "cell_type": "markdown",
   "metadata": {},
   "source": [
    "Risk = Probability x Effect\n",
    "\n",
    "### Probability bestaat uit: ###\n",
    "- Welke bron van vuur is aanwezig in welk pand\n",
    "        <br >\n",
    "        bijv.   woonhuis = elektra + fornuis <br >\n",
    "                kantoorpand = elektra + zware elektra + ... <br >\n",
    "                school = elektra + kinderen\n",
    "\n",
    "### Effect bestaat uit: ###\n",
    "\n",
    "1. People\n",
    "2. Properties\n",
    "3. Environment\n",
    "4. Reputation\n",
    "5. Infrastructuur\n",
    "\n",
    "__1. People__\n",
    "\n",
    "Aantal ingeschreven adressen in een straal van 10 meter?\n",
    "Doorstroomlocatie?\n",
    "\n",
    "__2. Properties__\n",
    "\n",
    "WOZ-waarde\n",
    "\n",
    "__3. Environment__\n",
    "\n",
    "???\n",
    "\n",
    "__4. Reputation__\n",
    "\n",
    "Historisch / monument / musea / etc\n",
    "\n",
    "__5. Infrastructuur__\n",
    "\n",
    "Impact op OV? Impact op wegafzettingen? Connecten met project van vorig jaar? OV APIs?"
   ]
  },
  {
   "cell_type": "markdown",
   "metadata": {},
   "source": []
  }
 ],
 "metadata": {
  "language_info": {
   "name": "python"
  },
  "orig_nbformat": 4
 },
 "nbformat": 4,
 "nbformat_minor": 2
}
